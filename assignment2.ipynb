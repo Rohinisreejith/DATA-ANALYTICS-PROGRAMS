{
 "cells": [
  {
   "cell_type": "markdown",
   "id": "fd3e97ee-e3c5-4422-a1b0-70a5279d2ee1",
   "metadata": {},
   "source": [
    "## 1.odd or even"
   ]
  },
  {
   "cell_type": "code",
   "execution_count": 4,
   "id": "28ff23cc-5d2e-4a63-bbc2-bcc8e1f0cec8",
   "metadata": {},
   "outputs": [
    {
     "name": "stdin",
     "output_type": "stream",
     "text": [
      "enter a number 67\n"
     ]
    },
    {
     "name": "stdout",
     "output_type": "stream",
     "text": [
      "the given number 67 is odd\n"
     ]
    }
   ],
   "source": [
    "n1=int(input(\"enter a number\"))\n",
    "rem=n1%2\n",
    "if rem==0 :\n",
    "     print(\"the given number\",n1,\"is even\")\n",
    "else:\n",
    "    print(\"the given number\",n1,\"is odd\")\n"
   ]
  },
  {
   "cell_type": "markdown",
   "id": "463e8994-6fce-4a6f-b361-03339e0246fb",
   "metadata": {},
   "source": [
    "## 2.negative positive or zero"
   ]
  },
  {
   "cell_type": "code",
   "execution_count": 8,
   "id": "6c81793b-d1a1-490f-ae49-f6c9b399cb17",
   "metadata": {},
   "outputs": [
    {
     "name": "stdin",
     "output_type": "stream",
     "text": [
      "enter a number: -8\n"
     ]
    },
    {
     "name": "stdout",
     "output_type": "stream",
     "text": [
      "the given number  -8 is negative\n"
     ]
    }
   ],
   "source": [
    "n2=int(input(\"enter a number:\"))\n",
    "if n2>0:\n",
    "    print(\"the given number\",n2,\"is positive\")\n",
    "elif n2<0:\n",
    "    print(\"the given number \",n2,\"is negative\")\n",
    "else:\n",
    "    print(\"its zero\")"
   ]
  },
  {
   "cell_type": "markdown",
   "id": "c9cbeb83-bcf3-4a4c-b444-0973eda9e2c2",
   "metadata": {},
   "source": [
    "## 3.leap year"
   ]
  },
  {
   "cell_type": "code",
   "execution_count": 10,
   "id": "8ad02b4f-f3f0-41d7-abe1-b030b62aa939",
   "metadata": {},
   "outputs": [
    {
     "name": "stdin",
     "output_type": "stream",
     "text": [
      "enter the year: 2023\n"
     ]
    },
    {
     "name": "stdout",
     "output_type": "stream",
     "text": [
      "the given year  2023 is a non leap year\n"
     ]
    }
   ],
   "source": [
    "y=int(input(\"enter the year:\"))\n",
    "rem=y%4\n",
    "if rem==0:\n",
    "    print(\"the given year\",y,\"is a leap year\")\n",
    "else:\n",
    "    print(\"the given year \",y,\"is a non leap year\")"
   ]
  },
  {
   "cell_type": "markdown",
   "id": "aa332232-533a-4735-bed4-a76d5b7a86b7",
   "metadata": {},
   "source": [
    "## 4.factor of number"
   ]
  },
  {
   "cell_type": "code",
   "execution_count": 2,
   "id": "b3a04403-1cbd-4c66-86b2-2aa98e661f62",
   "metadata": {},
   "outputs": [
    {
     "name": "stdin",
     "output_type": "stream",
     "text": [
      "enter the number: 4\n"
     ]
    },
    {
     "name": "stdout",
     "output_type": "stream",
     "text": [
      "factors of 4 are 1\n",
      "factors of 4 are 2\n",
      "factors of 4 are 4\n"
     ]
    }
   ],
   "source": [
    "f=int(input(\"enter the number:\"))\n",
    "n=f\n",
    "for i in range(1,f+1):\n",
    "    if f%i==0:\n",
    "        print(\"factors of\",n,\"are\",i)\n"
   ]
  },
  {
   "cell_type": "markdown",
   "id": "838b5b05-9155-48c7-8db4-a9dc377b173c",
   "metadata": {},
   "source": [
    "## 5.reverse a number"
   ]
  },
  {
   "cell_type": "code",
   "execution_count": 5,
   "id": "ea7d1173-7fed-4fc9-80ed-c7fb2a1bcd7a",
   "metadata": {},
   "outputs": [
    {
     "name": "stdin",
     "output_type": "stream",
     "text": [
      "enter a number: 63\n"
     ]
    },
    {
     "name": "stdout",
     "output_type": "stream",
     "text": [
      "reversed number is: 36\n"
     ]
    }
   ],
   "source": [
    "num=int(input(\"enter a number:\"))\n",
    "rs=0\n",
    "while num!=0:\n",
    "    r=num%10\n",
    "    rs=rs*10+r\n",
    "    num=num//10\n",
    "print(\"reversed number is:\",str(rs))"
   ]
  },
  {
   "cell_type": "markdown",
   "id": "d8ce5233-42ff-4254-ab65-ff16ce40d974",
   "metadata": {},
   "source": [
    "## 10.mulptiplication table"
   ]
  },
  {
   "cell_type": "code",
   "execution_count": 2,
   "id": "bfadb55e-bdc7-419f-9a0b-944646f749ef",
   "metadata": {},
   "outputs": [
    {
     "name": "stdout",
     "output_type": "stream",
     "text": [
      "multiplication table for 1 is:\n",
      "1 x 1 = 1\n",
      "1 x 2 = 2\n",
      "1 x 3 = 3\n",
      "1 x 4 = 4\n",
      "1 x 5 = 5\n",
      "1 x 6 = 6\n",
      "1 x 7 = 7\n",
      "1 x 8 = 8\n",
      "1 x 9 = 9\n",
      "1 x 10 = 10\n",
      "1 x 11 = 11\n",
      "multiplication table for 2 is:\n",
      "2 x 1 = 2\n",
      "2 x 2 = 4\n",
      "2 x 3 = 6\n",
      "2 x 4 = 8\n",
      "2 x 5 = 10\n",
      "2 x 6 = 12\n",
      "2 x 7 = 14\n",
      "2 x 8 = 16\n",
      "2 x 9 = 18\n",
      "2 x 10 = 20\n",
      "2 x 11 = 22\n",
      "multiplication table for 3 is:\n",
      "3 x 1 = 3\n",
      "3 x 2 = 6\n",
      "3 x 3 = 9\n",
      "3 x 4 = 12\n",
      "3 x 5 = 15\n",
      "3 x 6 = 18\n",
      "3 x 7 = 21\n",
      "3 x 8 = 24\n",
      "3 x 9 = 27\n",
      "3 x 10 = 30\n",
      "3 x 11 = 33\n",
      "multiplication table for 4 is:\n",
      "4 x 1 = 4\n",
      "4 x 2 = 8\n",
      "4 x 3 = 12\n",
      "4 x 4 = 16\n",
      "4 x 5 = 20\n",
      "4 x 6 = 24\n",
      "4 x 7 = 28\n",
      "4 x 8 = 32\n",
      "4 x 9 = 36\n",
      "4 x 10 = 40\n",
      "4 x 11 = 44\n",
      "multiplication table for 5 is:\n",
      "5 x 1 = 5\n",
      "5 x 2 = 10\n",
      "5 x 3 = 15\n",
      "5 x 4 = 20\n",
      "5 x 5 = 25\n",
      "5 x 6 = 30\n",
      "5 x 7 = 35\n",
      "5 x 8 = 40\n",
      "5 x 9 = 45\n",
      "5 x 10 = 50\n",
      "5 x 11 = 55\n"
     ]
    }
   ],
   "source": [
    " for i in range(1,6):\n",
    "    print(\"multiplication table for\",i,\"is:\")\n",
    "    for j in range(1,12):\n",
    "        print(i,\"x\",j,\"=\",i*j)\n",
    "    "
   ]
  },
  {
   "cell_type": "markdown",
   "id": "a7535e9f-6f4a-4d27-8ca2-0857cceb6226",
   "metadata": {},
   "source": [
    "## 9.calculator"
   ]
  },
  {
   "cell_type": "code",
   "execution_count": 5,
   "id": "1799df02-01c2-482e-93af-8ae2863794ab",
   "metadata": {},
   "outputs": [
    {
     "name": "stdin",
     "output_type": "stream",
     "text": [
      "for simple calculation + for sum, - for difference, / for division, * for multiplication -\n",
      "enter first number 8\n",
      "enter second number 2\n"
     ]
    },
    {
     "name": "stdout",
     "output_type": "stream",
     "text": [
      "8.0 - 2.0 = 6.0\n"
     ]
    }
   ],
   "source": [
    "symbol=input(\"for simple calculation + for sum, - for difference, / for division, * for multiplication\")\n",
    "n1=float(input(\"enter first number\"))\n",
    "n2=float(input(\"enter second number\"))\n",
    "match symbol:\n",
    "    case'+':\n",
    "        print(n1,\"+\",n2,\"=\",n1+n2)\n",
    "    case'-':\n",
    "         print(n1,\"-\",n2,\"=\",n1-n2)\n",
    "    case'/':\n",
    "         print(n1,\"/\",n2,\"=\",n1/n2)\n",
    "    case'*':\n",
    "         print(n1,\"*\",n2,\"=\",n1*n2)"
   ]
  },
  {
   "cell_type": "markdown",
   "id": "4c037206-f903-4849-a0b6-2a2508c588fe",
   "metadata": {},
   "source": [
    "## 8.fibonacci series"
   ]
  },
  {
   "cell_type": "code",
   "execution_count": 27,
   "id": "deb178ca-b616-4d3c-85ae-905e57f9ad06",
   "metadata": {},
   "outputs": [
    {
     "name": "stdin",
     "output_type": "stream",
     "text": [
      "enter a number: 7\n"
     ]
    },
    {
     "name": "stdout",
     "output_type": "stream",
     "text": [
      "0\n",
      "1\n",
      "1\n",
      "2\n",
      "3\n",
      "5\n",
      "8\n"
     ]
    }
   ],
   "source": [
    "num=int(input(\"enter a number:\"))\n",
    "n1,n2=0,1\n",
    "for i in range(num):\n",
    "    print(n1)\n",
    "    n1,n2=n2,n1+n2\n",
    "\n",
    "    \n",
    "         "
   ]
  },
  {
   "cell_type": "markdown",
   "id": "496ff03a-aaee-4ef8-828a-2a5d9fbfad2f",
   "metadata": {},
   "source": [
    "## 6.sum ofnumbers"
   ]
  },
  {
   "cell_type": "code",
   "execution_count": 49,
   "id": "7b6c9b53-be5d-471b-ad26-c92ccc15f7ad",
   "metadata": {},
   "outputs": [
    {
     "name": "stdin",
     "output_type": "stream",
     "text": [
      "enter start no: 2\n",
      "enter end no: 4\n"
     ]
    },
    {
     "name": "stdout",
     "output_type": "stream",
     "text": [
      "9\n"
     ]
    }
   ],
   "source": [
    "start=int(input(\"enter start no:\"))\n",
    "end=int(input(\"enter end no:\"))\n",
    "sum1=0\n",
    "for i in range(start,end+1):\n",
    "    sum1=sum1+i\n",
    "print(sum1)"
   ]
  },
  {
   "cell_type": "markdown",
   "id": "38800256-82fc-4963-88b9-2341088e9acc",
   "metadata": {},
   "source": [
    "## 7.prime number"
   ]
  },
  {
   "cell_type": "code",
   "execution_count": 2,
   "id": "3741f56b-7f17-4fe2-b038-d6b0350646b8",
   "metadata": {},
   "outputs": [
    {
     "name": "stdin",
     "output_type": "stream",
     "text": [
      "entr a num: 4\n"
     ]
    },
    {
     "name": "stdout",
     "output_type": "stream",
     "text": [
      "4  is not prime\n"
     ]
    }
   ],
   "source": [
    "str1=int(input(\"entr a num:\"))\n",
    "isprime=True\n",
    "for i in range(2,str1):\n",
    "    if((str1%i)==0):\n",
    "        isprime=False\n",
    "if(isprime):\n",
    "    print(str1,\" is prime\")\n",
    "else:\n",
    "    print(str1,\" is not prime\")\n",
    "    \n"
   ]
  },
  {
   "cell_type": "code",
   "execution_count": null,
   "id": "f82ff44e-877d-4117-bac0-08d2b39ee1f8",
   "metadata": {},
   "outputs": [],
   "source": []
  }
 ],
 "metadata": {
  "kernelspec": {
   "display_name": "Python 3 (ipykernel)",
   "language": "python",
   "name": "python3"
  },
  "language_info": {
   "codemirror_mode": {
    "name": "ipython",
    "version": 3
   },
   "file_extension": ".py",
   "mimetype": "text/x-python",
   "name": "python",
   "nbconvert_exporter": "python",
   "pygments_lexer": "ipython3",
   "version": "3.12.4"
  }
 },
 "nbformat": 4,
 "nbformat_minor": 5
}
