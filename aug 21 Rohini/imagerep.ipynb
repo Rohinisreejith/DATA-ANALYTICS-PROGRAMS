{
  "nbformat": 4,
  "nbformat_minor": 0,
  "metadata": {
    "colab": {
      "provenance": []
    },
    "kernelspec": {
      "name": "python3",
      "display_name": "Python 3"
    },
    "language_info": {
      "name": "python"
    }
  },
  "cells": [
    {
      "cell_type": "code",
      "execution_count": null,
      "metadata": {
        "colab": {
          "base_uri": "https://localhost:8080/"
        },
        "id": "4vudH6UncmLt",
        "outputId": "06f940ff-4bc1-472e-9e40-ccbfdbb1afa8"
      },
      "outputs": [
        {
          "output_type": "stream",
          "name": "stdout",
          "text": [
            "Data Representation\n",
            "Constant Tensor\n",
            "tf.Tensor(4, shape=(), dtype=int32)\n",
            "Array Tensor\n",
            "tf.Tensor([2 3 4], shape=(3,), dtype=int32)\n",
            "Image as a Tensor\n",
            "tf.Tensor(\n",
            "[[[124  89  67]\n",
            "  [124  89  67]\n",
            "  [124  89  67]\n",
            "  ...\n",
            "  [150 119  90]\n",
            "  [150 119  90]\n",
            "  [150 119  90]]\n",
            "\n",
            " [[125  90  68]\n",
            "  [125  90  68]\n",
            "  [125  90  68]\n",
            "  ...\n",
            "  [150 119  90]\n",
            "  [150 119  90]\n",
            "  [150 119  90]]\n",
            "\n",
            " [[127  92  70]\n",
            "  [127  92  70]\n",
            "  [127  92  70]\n",
            "  ...\n",
            "  [150 119  90]\n",
            "  [150 119  90]\n",
            "  [150 119  90]]\n",
            "\n",
            " ...\n",
            "\n",
            " [[114 125 121]\n",
            "  [116 127 123]\n",
            "  [121 132 128]\n",
            "  ...\n",
            "  [213  67  30]\n",
            "  [214  68  31]\n",
            "  [215  68  34]]\n",
            "\n",
            " [[105 116 112]\n",
            "  [109 120 116]\n",
            "  [115 126 122]\n",
            "  ...\n",
            "  [214  61  27]\n",
            "  [216  63  29]\n",
            "  [218  65  31]]\n",
            "\n",
            " [[100 111 107]\n",
            "  [105 116 112]\n",
            "  [112 123 119]\n",
            "  ...\n",
            "  [216  59  26]\n",
            "  [218  61  28]\n",
            "  [222  65  32]]], shape=(148, 215, 3), dtype=uint8)\n",
            "Attributes of the Tensor\n",
            "Size\n",
            "(148, 215, 3)\n",
            "DataType\n",
            "<dtype: 'uint8'>\n",
            "nDim\n",
            "3\n"
          ]
        }
      ],
      "source": [
        "\n",
        "\n",
        "\n",
        "import tensorflow as tf\n",
        "import matplotlib.pyplot as plt\n",
        "\n",
        "print(\"Data Representation\")\n",
        "#=================\n",
        "print(\"Constant Tensor\")\n",
        "print(tf.constant(4))\n",
        "\n",
        "print(\"Array Tensor\")\n",
        "print(tf.constant([2,3,4]))\n",
        "\n",
        "#==============\n",
        "print(\"Image as a Tensor\")\n",
        "img = plt.imread(\"kitten.jpg\")\n",
        "\n",
        "img_tensor = tf.convert_to_tensor(img)\n",
        "print(img_tensor)\n",
        "\n",
        "\n",
        "#===========\n",
        "print(\"Attributes of the Tensor\")\n",
        "\n",
        "\n",
        "print(\"Size\")\n",
        "print(img_tensor.shape)\n",
        "print(\"DataType\")\n",
        "print(img_tensor.dtype)\n",
        "print(\"nDim\")\n",
        "print(img_tensor.ndim)\n",
        "\n"
      ]
    }
  ]
}