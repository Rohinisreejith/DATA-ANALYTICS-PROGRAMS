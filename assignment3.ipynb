{
 "cells": [
  {
   "cell_type": "markdown",
   "id": "b16c85cf-3c4d-49df-bf00-f7663985e52f",
   "metadata": {},
   "source": [
    "## 1.user name and password"
   ]
  },
  {
   "cell_type": "code",
   "execution_count": 4,
   "id": "2e009cc5-70d7-4d6e-a20b-4e58bb95d5d8",
   "metadata": {},
   "outputs": [
    {
     "name": "stdin",
     "output_type": "stream",
     "text": [
      "enter your username: rohin\n",
      "enter your password: cdac\n"
     ]
    },
    {
     "name": "stdout",
     "output_type": "stream",
     "text": [
      "login failure\n"
     ]
    }
   ],
   "source": [
    "un=str(input(\"enter your username:\"))\n",
    "pw=str(input(\"enter your password:\"))\n",
    "if (pw==\"cdac\") & (un==\"\"):\n",
    "    print(\"login successful\")\n",
    "else:\n",
    "    print(\"login failure\")\n",
    "    "
   ]
  },
  {
   "cell_type": "markdown",
   "id": "5569d031-9b0a-4cd6-8bc1-49bcbe3f4721",
   "metadata": {},
   "source": [
    "## 2. input 2 string"
   ]
  },
  {
   "cell_type": "code",
   "execution_count": null,
   "id": "1732204b-6d50-4085-839a-5e992bcdcfc9",
   "metadata": {},
   "outputs": [],
   "source": []
  },
  {
   "cell_type": "code",
   "execution_count": null,
   "id": "de866b4d-adc5-4e20-9f0b-838b930bfa70",
   "metadata": {},
   "outputs": [],
   "source": []
  },
  {
   "cell_type": "code",
   "execution_count": 11,
   "id": "47247bec-b575-4f63-97ac-46063c99224c",
   "metadata": {},
   "outputs": [
    {
     "name": "stdin",
     "output_type": "stream",
     "text": [
      "enter first string: abcdabcd\n",
      "enter second strig: abcd\n"
     ]
    },
    {
     "name": "stdout",
     "output_type": "stream",
     "text": [
      "new string is cdacabcd\n"
     ]
    }
   ],
   "source": [
    "str1=str(input(\"enter first string:\"))\n",
    "str2=str(input(\"enter second strig:\"))\n",
    "if (str2 in str1):\n",
    "    str30=str2[0:5];\n",
    "    str31=\"cdac\"+str30\n",
    "    print(\"new string is\",str31) \n",
    "else:\n",
    "    print(str1,\"is not in\",str2)"
   ]
  },
  {
   "cell_type": "markdown",
   "id": "be5b861a-5f39-470a-862b-f248f2599735",
   "metadata": {},
   "source": [
    "## 3.string with decimal"
   ]
  },
  {
   "cell_type": "code",
   "execution_count": 16,
   "id": "d251abc0-f749-45c4-90c2-37d41b52791f",
   "metadata": {},
   "outputs": [
    {
     "name": "stdin",
     "output_type": "stream",
     "text": [
      "enter a string with decimal: abcd9087.234sde\n"
     ]
    },
    {
     "name": "stdout",
     "output_type": "stream",
     "text": [
      "the number is: 9087.234\n",
      "the decimal part is 0.234\n"
     ]
    }
   ],
   "source": [
    "str1=str(input(\"enter a string with decimal:\"))\n",
    "k=\"\";\n",
    "for i in str1:\n",
    "    if(i.isdigit()|(i==\".\")):\n",
    "        k+=i\n",
    "print(\"the number is:\",k)\n",
    "s1,s2,s3=k.partition(\".\")\n",
    "if(s3):\n",
    "    print(\"the decimal part is 0.\"+s3)\n",
    "else:\n",
    "    print(\"decimal part dose not exist\")"
   ]
  },
  {
   "cell_type": "markdown",
   "id": "a39dfa37-72c4-4cca-b732-0a7b672a5509",
   "metadata": {},
   "source": [
    "## 4.capitalize first letter of each word "
   ]
  },
  {
   "cell_type": "code",
   "execution_count": 12,
   "id": "c6e2592f-2549-49ba-8865-cd2d02f654eb",
   "metadata": {},
   "outputs": [
    {
     "name": "stdin",
     "output_type": "stream",
     "text": [
      "enter the string: i love india\n"
     ]
    },
    {
     "name": "stdout",
     "output_type": "stream",
     "text": [
      "I Love India\n"
     ]
    }
   ],
   "source": [
    "str1=str(input(\"enter the string:\"))\n",
    "str2=str1.title()\n",
    "print(str2)"
   ]
  },
  {
   "cell_type": "markdown",
   "id": "10200322-13a8-4eaa-9048-469766f91036",
   "metadata": {},
   "source": [
    "## 5.capitalize every other letter in a word"
   ]
  },
  {
   "cell_type": "code",
   "execution_count": 38,
   "id": "4bf5a13e-1d70-479b-b3d1-2273ac6ab9d9",
   "metadata": {},
   "outputs": [
    {
     "name": "stdin",
     "output_type": "stream",
     "text": [
      "enter the string: python\n"
     ]
    },
    {
     "name": "stdout",
     "output_type": "stream",
     "text": [
      "the new string is: pYtHoN\n"
     ]
    }
   ],
   "source": [
    "str1=str(input(\"enter the string:\"))\n",
    "k2=\"\"\n",
    "k3=\"\"\n",
    "for i in range(0,len(str1)):\n",
    "\n",
    "    if i%2==0:\n",
    "      k2=k2+str1[i]\n",
    "    else:\n",
    "        k2=k2+str1[i].upper()\n",
    "        \n",
    "print(\"the new string is:\",k2)"
   ]
  },
  {
   "cell_type": "markdown",
   "id": "d853f310-b2bd-4f7d-a8d0-c5ffdc57130f",
   "metadata": {},
   "source": [
    "### 6.doubles the letter"
   ]
  },
  {
   "cell_type": "code",
   "execution_count": 35,
   "id": "8ca691c7-0615-44ea-8cce-751bf11f5b78",
   "metadata": {},
   "outputs": [
    {
     "name": "stdin",
     "output_type": "stream",
     "text": [
      "enter a string: abc\n"
     ]
    },
    {
     "name": "stdout",
     "output_type": "stream",
     "text": [
      "aabbcc\n"
     ]
    }
   ],
   "source": [
    "w=input(\"enter a string:\")\n",
    "d_str=''.join(char*2 for char in w)\n",
    "print(d_str)\n"
   ]
  },
  {
   "cell_type": "markdown",
   "id": "37206877-dc5f-4386-8503-29414fcee196",
   "metadata": {},
   "source": [
    "## 7.word with length"
   ]
  },
  {
   "cell_type": "code",
   "execution_count": 14,
   "id": "0a980917-7cdb-4340-9cb9-3ba71ef6a8fb",
   "metadata": {},
   "outputs": [
    {
     "name": "stdin",
     "output_type": "stream",
     "text": [
      "enter a line: abc abv\n"
     ]
    },
    {
     "name": "stdout",
     "output_type": "stream",
     "text": [
      "abc :len 3\n",
      "abv :len 3\n"
     ]
    }
   ],
   "source": [
    "str1=str(input(\"enter a line:\"))\n",
    "if(str1!=\"\"):\n",
    "    w=str1.split(\" \")\n",
    "    for i in w:\n",
    "        if(i):\n",
    "            print(i,\":len\",len(i))"
   ]
  },
  {
   "cell_type": "markdown",
   "id": "c6d736f4-3daf-4e7b-9d01-b992109bced7",
   "metadata": {},
   "source": [
    "## 8.deleting characters"
   ]
  },
  {
   "cell_type": "code",
   "execution_count": 21,
   "id": "2c02f3ac-f9db-40b6-9c38-9f3d91eba6cd",
   "metadata": {},
   "outputs": [
    {
     "name": "stdin",
     "output_type": "stream",
     "text": [
      "enter a string: attingal\n",
      "enter a character: t\n"
     ]
    },
    {
     "name": "stdout",
     "output_type": "stream",
     "text": [
      "aingal\n"
     ]
    }
   ],
   "source": [
    "str1=str(input(\"enter a string:\"))\n",
    "cha1=input(\"enter a character:\")\n",
    "if cha1 in str1:\n",
    "    str2=str1.replace(cha1,\"\")\n",
    "    print(str2)"
   ]
  },
  {
   "cell_type": "markdown",
   "id": "6e362cd5-66d9-4f6d-9d99-e6f5ebd36da1",
   "metadata": {},
   "source": [
    "## 9.lc to uc and uc to lc"
   ]
  },
  {
   "cell_type": "code",
   "execution_count": 22,
   "id": "b5b93fe1-350b-4f9c-bd0b-769420418f7c",
   "metadata": {},
   "outputs": [
    {
     "name": "stdin",
     "output_type": "stream",
     "text": [
      "enter a sentence: hai HELLO\n"
     ]
    },
    {
     "name": "stdout",
     "output_type": "stream",
     "text": [
      "HAI hello\n"
     ]
    }
   ],
   "source": [
    "sen=input(\"enter a sentence:\")\n",
    "consen=\"\"\n",
    "for char in sen:\n",
    "    if char.islower():\n",
    "        consen+=char.upper()\n",
    "    else:\n",
    "        consen+=char.lower()\n",
    "print(consen)"
   ]
  },
  {
   "cell_type": "markdown",
   "id": "9f91e55e-2de7-423d-b7eb-2205941a227a",
   "metadata": {},
   "source": [
    "## 10.a,b,c,d"
   ]
  },
  {
   "cell_type": "code",
   "execution_count": 32,
   "id": "5eee9976-f16e-47c1-86ce-f29e9e7d3eda",
   "metadata": {},
   "outputs": [
    {
     "name": "stdin",
     "output_type": "stream",
     "text": [
      "enter a string: abc 1 2 bh 4 5\n"
     ]
    },
    {
     "name": "stdout",
     "output_type": "stream",
     "text": [
      "the number are:\n",
      "1\n",
      "2\n",
      "4\n",
      "5\n",
      "sum= 12\n"
     ]
    }
   ],
   "source": [
    "str1=input(\"enter a string:\")\n",
    "k=0\n",
    "print(\"the number are:\")\n",
    "for i in str1:\n",
    "    if i.isnumeric():\n",
    "         print(i)\n",
    "         k+=int(i)\n",
    "print(\"sum=\",k)\n",
    "        "
   ]
  },
  {
   "cell_type": "code",
   "execution_count": null,
   "id": "8144d24e-13bc-4d4b-aa32-bac0693d67af",
   "metadata": {},
   "outputs": [],
   "source": []
  }
 ],
 "metadata": {
  "kernelspec": {
   "display_name": "Python 3 (ipykernel)",
   "language": "python",
   "name": "python3"
  },
  "language_info": {
   "codemirror_mode": {
    "name": "ipython",
    "version": 3
   },
   "file_extension": ".py",
   "mimetype": "text/x-python",
   "name": "python",
   "nbconvert_exporter": "python",
   "pygments_lexer": "ipython3",
   "version": "3.12.4"
  }
 },
 "nbformat": 4,
 "nbformat_minor": 5
}
