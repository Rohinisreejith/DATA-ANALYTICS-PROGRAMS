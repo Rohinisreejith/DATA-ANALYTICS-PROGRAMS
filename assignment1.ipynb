{
 "cells": [
  {
   "cell_type": "markdown",
   "id": "55863598-c767-4edc-8377-6c1470c46822",
   "metadata": {},
   "source": [
    "### 1.PGRM TO ENTER YUR NAME\n"
   ]
  },
  {
   "cell_type": "code",
   "execution_count": 3,
   "id": "ecd3cf77-46ce-452e-937b-73665fa519b3",
   "metadata": {},
   "outputs": [
    {
     "name": "stdin",
     "output_type": "stream",
     "text": [
      "enter your first name: Rohini\n",
      "enter your last name: M S\n"
     ]
    },
    {
     "name": "stdout",
     "output_type": "stream",
     "text": [
      "your name is: RohiniM S\n"
     ]
    }
   ],
   "source": [
    "name1=input(\"enter your first name:\")\n",
    "name2=input(\"enter your last name:\")\n",
    "name=name1+name2\n",
    "print(\"your name is:\",name)\n"
   ]
  },
  {
   "cell_type": "markdown",
   "id": "71ce06e3-589b-43a6-add8-ca028e3f10a8",
   "metadata": {},
   "source": [
    "## 2.CONVERT CURRENCY\n"
   ]
  },
  {
   "cell_type": "code",
   "execution_count": 8,
   "id": "5895cb9b-530c-402f-a4e8-0cb24b3a0490",
   "metadata": {},
   "outputs": [
    {
     "name": "stdin",
     "output_type": "stream",
     "text": [
      "enter currency in ruppees: 500\n"
     ]
    },
    {
     "name": "stdout",
     "output_type": "stream",
     "text": [
      "value of rupees= 500.0\n",
      "value in nz dollar is = 9.0\n",
      "value in us dollar is = 5.0\n"
     ]
    }
   ],
   "source": [
    "rup=float(input(\"enter currency in ruppees:\"))\n",
    "nz=rup//50.86\n",
    "us=rup//83.61\n",
    "print(\"value of rupees=\",rup)\n",
    "print(\"value in nz dollar is =\",nz)\n",
    "print(\"value in us dollar is =\",us)"
   ]
  },
  {
   "cell_type": "markdown",
   "id": "c9901b87-90ac-4e9e-8f41-7adf4514dcca",
   "metadata": {},
   "source": [
    "## 3.CONVERT LENGHT"
   ]
  },
  {
   "cell_type": "code",
   "execution_count": 9,
   "id": "d9b21d73-9e22-4226-a561-d36e8ed814d1",
   "metadata": {},
   "outputs": [
    {
     "name": "stdin",
     "output_type": "stream",
     "text": [
      "enter length of your cloth in c m: 500\n"
     ]
    },
    {
     "name": "stdout",
     "output_type": "stream",
     "text": [
      "length of your cloth in meter is: 5.0\n"
     ]
    }
   ],
   "source": [
    "l1=float(input(\"enter length of your cloth in c m:\"))\n",
    "m1=l1/100\n",
    "print(\"length of your cloth in meter is:\",m1)"
   ]
  },
  {
   "cell_type": "markdown",
   "id": "e2160461-39c0-4bfd-acc9-887baf83d35d",
   "metadata": {},
   "source": [
    "## 4.QUOTIENT AND REMAINDER"
   ]
  },
  {
   "cell_type": "code",
   "execution_count": 10,
   "id": "a54138a5-74f5-40bb-9762-5d4d2caf2d22",
   "metadata": {},
   "outputs": [
    {
     "name": "stdin",
     "output_type": "stream",
     "text": [
      "enter the first no: 500\n",
      "enter the second no: 3\n"
     ]
    },
    {
     "name": "stdout",
     "output_type": "stream",
     "text": [
      "quotient is : 166\n",
      "remainder is: 2\n"
     ]
    }
   ],
   "source": [
    "d1=int(input(\"enter the first no:\"))\n",
    "d2=int(input(\"enter the second no:\"))\n",
    "d=d1//d2\n",
    "rem1=d1%d2\n",
    "print(\"quotient is :\",d)\n",
    "print(\"remainder is:\",rem1)"
   ]
  },
  {
   "cell_type": "markdown",
   "id": "568aedf7-9140-4c1c-b790-5ce73b760fef",
   "metadata": {},
   "source": [
    "## 5. POWER OF A NUMBER"
   ]
  },
  {
   "cell_type": "code",
   "execution_count": 11,
   "id": "c004c362-c5d4-458c-bfe3-3969c092acd0",
   "metadata": {},
   "outputs": [
    {
     "name": "stdin",
     "output_type": "stream",
     "text": [
      "enter the number: 2\n",
      "enter the exponent: 2\n"
     ]
    },
    {
     "name": "stdout",
     "output_type": "stream",
     "text": [
      "power of 2.0 is 4.0\n"
     ]
    }
   ],
   "source": [
    "p1=float(input(\"enter the number:\"))\n",
    "p2=int(input(\"enter the exponent:\"))\n",
    "pw=p1**p2\n",
    "print(\"power of\",p1,\"is\",pw)"
   ]
  },
  {
   "cell_type": "markdown",
   "id": "beb32da8-18b2-490d-9bf2-681043910bec",
   "metadata": {},
   "source": [
    "## 6.AREA OF CIRCLE"
   ]
  },
  {
   "cell_type": "code",
   "execution_count": 13,
   "id": "34c4ffe2-7097-4654-8907-752f082d4a54",
   "metadata": {},
   "outputs": [
    {
     "name": "stdin",
     "output_type": "stream",
     "text": [
      "enter radius of circle: 5\n"
     ]
    },
    {
     "name": "stdout",
     "output_type": "stream",
     "text": [
      "area of circle is: 78.5\n",
      "perimeter of circle is: 31.400000000000002\n"
     ]
    }
   ],
   "source": [
    "r1=float(input(\"enter radius of circle:\"))\n",
    "area1=3.14*r1*r1\n",
    "perimeter1=2*3.14*r1\n",
    "print(\"area of circle is:\",area1)\n",
    "print(\"perimeter of circle is:\",perimeter1)"
   ]
  },
  {
   "cell_type": "markdown",
   "id": "b9622b7b-78bf-4e61-b22e-d62c1a72ad23",
   "metadata": {},
   "source": [
    "## 7.CONVERT TEMPERATURE"
   ]
  },
  {
   "cell_type": "code",
   "execution_count": 15,
   "id": "89e3f0fe-1cf2-465a-82a4-42fc15c70e8e",
   "metadata": {},
   "outputs": [
    {
     "name": "stdin",
     "output_type": "stream",
     "text": [
      "enter tempearture in degree celcius: 32\n"
     ]
    },
    {
     "name": "stdout",
     "output_type": "stream",
     "text": [
      "temperature in farenheit is: 89.6\n"
     ]
    }
   ],
   "source": [
    "t1=float(input(\"enter tempearture in degree celcius:\"))\n",
    "f1=(t1*1.8)+32\n",
    "print(\"temperature in farenheit is:\",f1)"
   ]
  },
  {
   "cell_type": "markdown",
   "id": "65e26846-8dac-461d-91fc-e6bf36c0acd9",
   "metadata": {},
   "source": [
    "## 8.RELATIONAL AND LOGICAL OPERATORS"
   ]
  },
  {
   "cell_type": "markdown",
   "id": "a1cab23f-bbc7-4831-be04-e3d0fe9cea76",
   "metadata": {},
   "source": [
    "v1=150\n",
    "v2=100\n",
    "print(v1>v2)"
   ]
  },
  {
   "cell_type": "code",
   "execution_count": 17,
   "id": "1dd9dceb-6e6e-485f-a753-d53673986689",
   "metadata": {},
   "outputs": [
    {
     "name": "stdout",
     "output_type": "stream",
     "text": [
      "False\n"
     ]
    }
   ],
   "source": [
    "print(v1<v2)"
   ]
  },
  {
   "cell_type": "code",
   "execution_count": 18,
   "id": "cd3447d0-90f8-4236-894f-91c054b00540",
   "metadata": {},
   "outputs": [
    {
     "name": "stdout",
     "output_type": "stream",
     "text": [
      "False\n"
     ]
    }
   ],
   "source": [
    "print(v1==v2)"
   ]
  },
  {
   "cell_type": "code",
   "execution_count": 19,
   "id": "bc71ce90-3f84-4fb7-9866-40202aed1ac4",
   "metadata": {},
   "outputs": [
    {
     "name": "stdout",
     "output_type": "stream",
     "text": [
      "True\n"
     ]
    }
   ],
   "source": [
    "print(v1!=v2)"
   ]
  },
  {
   "cell_type": "code",
   "execution_count": 20,
   "id": "7d393bea-d53c-4090-a477-4c2f1d5daa16",
   "metadata": {},
   "outputs": [
    {
     "name": "stdout",
     "output_type": "stream",
     "text": [
      "True\n"
     ]
    }
   ],
   "source": [
    "print(v1>=v2)"
   ]
  },
  {
   "cell_type": "code",
   "execution_count": 21,
   "id": "658f7cdc-6d37-498d-8287-96767a66634a",
   "metadata": {},
   "outputs": [
    {
     "name": "stdout",
     "output_type": "stream",
     "text": [
      "False\n"
     ]
    }
   ],
   "source": [
    "print(v1<=v2)"
   ]
  },
  {
   "cell_type": "code",
   "execution_count": 22,
   "id": "57822bf1-3686-4a89-9418-2ec0d3888fdf",
   "metadata": {},
   "outputs": [
    {
     "name": "stdout",
     "output_type": "stream",
     "text": [
      "False\n"
     ]
    }
   ],
   "source": [
    "l1=120\n",
    "l2=130\n",
    "print(l1>l2 and l1<l2)"
   ]
  },
  {
   "cell_type": "code",
   "execution_count": 23,
   "id": "30a46549-e826-43fb-be83-bdeb68eb62d7",
   "metadata": {},
   "outputs": [
    {
     "name": "stdout",
     "output_type": "stream",
     "text": [
      "True\n"
     ]
    }
   ],
   "source": [
    "print(l1>l2 or l1<l2)"
   ]
  },
  {
   "cell_type": "code",
   "execution_count": 24,
   "id": "d6af6eff-0f52-4a9b-a363-a8e831647495",
   "metadata": {},
   "outputs": [
    {
     "name": "stdout",
     "output_type": "stream",
     "text": [
      "True\n"
     ]
    }
   ],
   "source": [
    "print(not(l1>l2))"
   ]
  },
  {
   "cell_type": "markdown",
   "id": "ce8ee6e2-e437-48ca-9250-91906c6dbdb1",
   "metadata": {},
   "source": [
    "## 9.BITWISE VS SHIFT"
   ]
  },
  {
   "cell_type": "code",
   "execution_count": 25,
   "id": "37b7e920-aaae-40b1-b298-53629d626ec1",
   "metadata": {},
   "outputs": [
    {
     "name": "stdout",
     "output_type": "stream",
     "text": [
      "4\n"
     ]
    }
   ],
   "source": [
    "x1=7\n",
    "x2=4\n",
    "print(x1 and x2)"
   ]
  },
  {
   "cell_type": "code",
   "execution_count": 26,
   "id": "a4cd7b21-dd3b-42aa-8948-284159a8bcb2",
   "metadata": {},
   "outputs": [
    {
     "name": "stdout",
     "output_type": "stream",
     "text": [
      "7\n"
     ]
    }
   ],
   "source": [
    "print(x1|x2)"
   ]
  },
  {
   "cell_type": "code",
   "execution_count": 27,
   "id": "b4e844b8-6069-4606-8eba-d4e4bf894568",
   "metadata": {},
   "outputs": [
    {
     "name": "stdout",
     "output_type": "stream",
     "text": [
      "3\n"
     ]
    }
   ],
   "source": [
    "print(x1^x2)"
   ]
  },
  {
   "cell_type": "code",
   "execution_count": 29,
   "id": "41e7db7d-1bce-44da-9fed-57f7d3ac9444",
   "metadata": {},
   "outputs": [
    {
     "name": "stdout",
     "output_type": "stream",
     "text": [
      "28\n"
     ]
    }
   ],
   "source": [
    "print(x1<<2)"
   ]
  },
  {
   "cell_type": "code",
   "execution_count": 30,
   "id": "c9d7a3f8-9fe5-4259-9f42-9d65f7b6a9aa",
   "metadata": {},
   "outputs": [
    {
     "name": "stdout",
     "output_type": "stream",
     "text": [
      "1\n"
     ]
    }
   ],
   "source": [
    "print(x1>>2)"
   ]
  },
  {
   "cell_type": "code",
   "execution_count": null,
   "id": "7afbafc3-280b-4c24-a133-d7b5e3f5c776",
   "metadata": {},
   "outputs": [],
   "source": []
  }
 ],
 "metadata": {
  "kernelspec": {
   "display_name": "Python 3 (ipykernel)",
   "language": "python",
   "name": "python3"
  },
  "language_info": {
   "codemirror_mode": {
    "name": "ipython",
    "version": 3
   },
   "file_extension": ".py",
   "mimetype": "text/x-python",
   "name": "python",
   "nbconvert_exporter": "python",
   "pygments_lexer": "ipython3",
   "version": "3.12.4"
  }
 },
 "nbformat": 4,
 "nbformat_minor": 5
}
