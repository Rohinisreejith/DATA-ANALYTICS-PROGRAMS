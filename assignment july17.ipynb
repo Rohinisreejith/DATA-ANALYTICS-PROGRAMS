{
 "cells": [
  {
   "cell_type": "markdown",
   "id": "95426a5e-49e3-4bf7-b8c4-70042370b5c2",
   "metadata": {},
   "source": [
    "## 1. arithematic operations"
   ]
  },
  {
   "cell_type": "code",
   "execution_count": 2,
   "id": "d77cac3f-cca7-4a99-a3e4-2f08f663c162",
   "metadata": {},
   "outputs": [
    {
     "data": {
      "text/plain": [
       "68"
      ]
     },
     "execution_count": 2,
     "metadata": {},
     "output_type": "execute_result"
    }
   ],
   "source": [
    "import arithmetic as a\n",
    "a.add(23,45)"
   ]
  },
  {
   "cell_type": "code",
   "execution_count": 3,
   "id": "6232ca32-5c01-4d5a-b10a-04d273225ebe",
   "metadata": {},
   "outputs": [
    {
     "data": {
      "text/plain": [
       "23"
      ]
     },
     "execution_count": 3,
     "metadata": {},
     "output_type": "execute_result"
    }
   ],
   "source": [
    "a.dif(90,67)"
   ]
  },
  {
   "cell_type": "code",
   "execution_count": 4,
   "id": "c7bdddc4-2876-4d73-a30a-ef793868dc79",
   "metadata": {},
   "outputs": [
    {
     "data": {
      "text/plain": [
       "90"
      ]
     },
     "execution_count": 4,
     "metadata": {},
     "output_type": "execute_result"
    }
   ],
   "source": [
    "a.pro(3,30)"
   ]
  },
  {
   "cell_type": "code",
   "execution_count": 5,
   "id": "57d8877f-3f4b-4266-b92f-a13269a5dc17",
   "metadata": {},
   "outputs": [
    {
     "data": {
      "text/plain": [
       "5.0"
      ]
     },
     "execution_count": 5,
     "metadata": {},
     "output_type": "execute_result"
    }
   ],
   "source": [
    "a.div(45,9)"
   ]
  },
  {
   "cell_type": "markdown",
   "id": "fc11faf1-9af6-4b08-8ba8-7ab3c53b37bb",
   "metadata": {},
   "source": [
    "## 2.read file"
   ]
  },
  {
   "cell_type": "code",
   "execution_count": 8,
   "id": "97325f41-f21a-4e9a-b4a8-ad672b4056de",
   "metadata": {},
   "outputs": [
    {
     "name": "stdout",
     "output_type": "stream",
     "text": [
      "cotents of first file:\n",
      "this is india\n"
     ]
    }
   ],
   "source": [
    "f1=open(\"my new file\",'w')\n",
    "f1.write(\"this is india\")\n",
    "f1.close()\n",
    "f2=open(\"my new file\",'r')\n",
    "txt=f2.read()\n",
    "f2.close()\n",
    "print(\"cotents of first file:\")\n",
    "print(txt)\n",
    "txt2=\"\"\n",
    "for i in txt:\n",
    "    txt2+=i.upper()\n",
    "f3=open(\"second file\",'w')\n",
    "f3.write(txt2)\n",
    "f3.close()"
   ]
  },
  {
   "cell_type": "code",
   "execution_count": 10,
   "id": "a14a2e0a-7399-457d-8a8b-f671baebabf7",
   "metadata": {},
   "outputs": [
    {
     "name": "stdout",
     "output_type": "stream",
     "text": [
      "contents of second file are:\n",
      "THIS IS INDIA\n"
     ]
    }
   ],
   "source": [
    "f4=open(\"second file\",'r')\n",
    "print(\"contents of second file are:\")\n",
    "print(f4.read())\n",
    "f4.close()"
   ]
  },
  {
   "cell_type": "markdown",
   "id": "ef7c55c5-8f42-479a-9cfb-3fd6ae1a63a5",
   "metadata": {},
   "source": [
    "## 3.this and these"
   ]
  },
  {
   "cell_type": "code",
   "execution_count": 25,
   "id": "48780dbb-1a20-42fc-8f03-8361951e5e81",
   "metadata": {},
   "outputs": [
    {
     "name": "stdout",
     "output_type": "stream",
     "text": [
      "occurance of this: 2\n",
      "occurance of these: 2\n"
     ]
    }
   ],
   "source": [
    "import re\n",
    "f1=open(\"my new file\",'w')\n",
    "f1.write(\"this is all about python. these are some interesting topics. this is simple. these are easy\")\n",
    "f1.close()\n",
    "f2=open(\"my new file\",\"r\")\n",
    "txt=f2.read()\n",
    "f2.close()\n",
    "print(\"occurance of this:\",len(re.findall(\"this\",txt)))\n",
    "print(\"occurance of these:\",len(re.findall(\"these\",txt)))\n",
    "\n"
   ]
  },
  {
   "cell_type": "markdown",
   "id": "1ced6882-950f-4e77-85d4-9c9497db8eae",
   "metadata": {},
   "source": [
    "## 4.words ending with e"
   ]
  },
  {
   "cell_type": "code",
   "execution_count": 29,
   "id": "0bf99e89-45e2-45c9-9732-ec9eeee8cc57",
   "metadata": {},
   "outputs": [
    {
     "name": "stdout",
     "output_type": "stream",
     "text": [
      "No.of words ending with e is: 6\n"
     ]
    }
   ],
   "source": [
    "def endwith(l):\n",
    "    str1=l.split()\n",
    "    n=0\n",
    "    for i in str1:\n",
    "        if i.endswith(\"e\"):\n",
    "            n=n+1\n",
    "    return n\n",
    "f1=open(\"my new file\",'w')\n",
    "f1.write(\"this is all about python. these are some interesting topics. this is simple . these are easy\")\n",
    "f1.close()\n",
    "f2=open(\"my new file\",\"r\")\n",
    "txt=f2.read()\n",
    "f2.close()\n",
    "print(\"No.of words ending with e is:\",endwith(txt))\n"
   ]
  },
  {
   "cell_type": "markdown",
   "id": "d1b03a4e-7089-44b0-be5c-db17667544ad",
   "metadata": {},
   "source": [
    "## 5. search literals"
   ]
  },
  {
   "cell_type": "code",
   "execution_count": 10,
   "id": "797e6d58-28f9-46b1-97b6-26a95ed1f952",
   "metadata": {},
   "outputs": [
    {
     "name": "stdout",
     "output_type": "stream",
     "text": [
      "start position of the searched string is: 8\n",
      "location of the searched string is : (8, 14)\n"
     ]
    }
   ],
   "source": [
    "import re\n",
    "str1=\"this is python for data analytics. these are useful language.\"\n",
    "pattern=\"python\"\n",
    "re.findall(pattern,str1)\n",
    "s1=re.search(pattern,str1)\n",
    "\n",
    "print(\"start position of the searched string is:\",s1.start())\n",
    "print(\"location of the searched string is :\",s1.span())"
   ]
  },
  {
   "cell_type": "markdown",
   "id": "f083d980-87e1-4e39-82a8-08c2c5ee8160",
   "metadata": {},
   "source": [
    "## 6.pos and occu of substrng"
   ]
  },
  {
   "cell_type": "code",
   "execution_count": 11,
   "id": "ebfcc7c1-df0c-46f0-aa7d-c4d2ba1c385c",
   "metadata": {},
   "outputs": [
    {
     "name": "stdout",
     "output_type": "stream",
     "text": [
      "this string  python occures 1  times\n",
      "start position of the searched string is: 8\n",
      "location of the searched string is : (8, 14)\n"
     ]
    }
   ],
   "source": [
    "import re\n",
    "str1=\"this is python for data analytics. these are useful language.\"\n",
    "pattern=\"python\"\n",
    "x=len(re.findall(pattern,str1))\n",
    "print(\"this string \",pattern,\"occures\",x,\" times\")\n",
    "\n",
    "s1=re.search(pattern,str1)\n",
    "print(\"start position of the searched string is:\",s1.start())\n",
    "print(\"location of the searched string is :\",s1.span())\n"
   ]
  },
  {
   "cell_type": "markdown",
   "id": "0632c32a-cc60-4c50-bf52-d72c7e387845",
   "metadata": {},
   "source": [
    "## 7.white space and unde score"
   ]
  },
  {
   "cell_type": "code",
   "execution_count": 37,
   "id": "6bf99e81-7f93-4912-bb1a-604f6fadc27a",
   "metadata": {},
   "outputs": [
    {
     "name": "stdout",
     "output_type": "stream",
     "text": [
      "abc_xyz abc\n"
     ]
    }
   ],
   "source": [
    "str1=\"abc xyz_abc\"\n",
    "nstr=str1\n",
    "str2=\"\"\n",
    "for i in nstr:\n",
    "    if i==\" \":\n",
    "        i=\"_\"\n",
    "    else:\n",
    "        if i==\"_\":\n",
    "            i=\" \"\n",
    "    str2+=i\n",
    "print(str2)"
   ]
  },
  {
   "cell_type": "markdown",
   "id": "ab15b3e1-01b7-4681-bfa5-e16cacd35fa1",
   "metadata": {},
   "source": [
    "## 8.extact year month and date"
   ]
  },
  {
   "cell_type": "code",
   "execution_count": 12,
   "id": "bd4688ba-a1c8-414a-978d-a44180279152",
   "metadata": {},
   "outputs": [
    {
     "name": "stdout",
     "output_type": "stream",
     "text": [
      "year= ['9187', '3673', '3673', '3905', '5973', '9660', '9650', '2021', '1000', '6666', '6666', '6666', '3124', '2024', '0000', '2024', '2024', '2024', '2024', '2024', '2024', '2024', '2024', '2024', '0000', '2024', '2024', '2024', '0000', '2024', '2024', '2024', '0000', '2024', '2024', '2024', '2024', '2024', '2024', '1788', '2024', '2024', '1736', '2024', '2024', '2024', '1743', '2024', '2024', '2024', '1824', '2024', '2024', '1724', '2024', '1213', '2007', '9650', '2021', '9650', '2001', '2024', '5487']\n",
      "months: [12, 12, 11, 11, 11, 11, 5, 10, 11, 12, 10, 12, 7, 11, 2, 7, 7, 7, 7, 7, 12, 12, 4, 7, 12, 7, 7, 11, 3, 7, 11, 7, 7, 2, 5, 1, 7, 2, 7, 7, 7, 7, 7, 7, 7, 7, 7, 8, 3, 8, 3, 12, 7, 10, 10, 11, 12, 1, 12, 12]\n",
      "days: [12, 25, 12, 14, 14, 14, 14, 11, 11, 11, 11, 14, 14, 20, 20, 20, 20, 5, 20, 21, 10, 11, 12, 13, 10, 13, 21, 14, 23, 17, 17, 31, 24, 12, 20, 24, 7, 17, 15, 11, 2, 20, 24, 7, 17, 20, 24, 7, 20, 24, 20, 24, 20, 24, 7, 15, 18, 19, 20, 24, 7, 15, 20, 24, 20, 24, 20, 24, 7, 12, 17, 12, 4, 20, 24, 7, 12, 20, 24, 7, 20, 24, 7, 11, 18, 3, 20, 24, 7, 11, 20, 24, 7, 20, 24, 7, 2, 14, 5, 1, 20, 24, 7, 2, 20, 24, 7, 20, 24, 20, 24, 20, 24, 7, 24, 16, 20, 24, 7, 24, 17, 20, 24, 7, 26, 20, 24, 7, 26, 17, 20, 24, 20, 24, 7, 27, 20, 24, 7, 27, 17, 20, 24, 20, 24, 7, 27, 16, 20, 24, 7, 27, 18, 24, 20, 24, 8, 3, 14, 20, 24, 8, 3, 17, 24, 20, 24, 12, 13, 20, 7, 10, 20, 21, 10, 11, 12, 13, 20, 1, 20, 24, 12, 12, 26]\n"
     ]
    }
   ],
   "source": [
    "import urllib.request as ur\n",
    "import re\n",
    "url1=\"https://www.python.org/\"\n",
    "f=ur.urlopen(url1)\n",
    "txt=f.read().decode('utf-8')\n",
    "\n",
    "year=re.findall(r\"\\d{4}\",txt)\n",
    "print(\"year=\",year)\n",
    "\n",
    "months=re.findall(r\"\\d{2}\",txt)\n",
    "months2=[];\n",
    "for i in months:\n",
    "    i2=int(i)\n",
    "    if((i2>0)&(i2<13)):\n",
    "        months2.append(i2)\n",
    "print(\"months:\",months2)\n",
    "\n",
    "days=re.findall(r\"\\d{2}\",txt)\n",
    "days2=[];\n",
    "for i in days:\n",
    "    i2=int(i)\n",
    "    if((i2>0)&(i2<32)):\n",
    "        days2.append(i2)\n",
    "print(\"days:\",days2)\n",
    "\n"
   ]
  },
  {
   "cell_type": "markdown",
   "id": "81c96444-5d76-4306-bcc0-077b9b8b7bb3",
   "metadata": {},
   "source": [
    "## 9. starting with letter p"
   ]
  },
  {
   "cell_type": "code",
   "execution_count": 6,
   "id": "b44cec5a-0bd1-444e-b7a2-04c739ad0584",
   "metadata": {},
   "outputs": [
    {
     "name": "stdout",
     "output_type": "stream",
     "text": [
      "['Parrot', 'Problem']\n",
      "no of words starting with P is:  2\n"
     ]
    }
   ],
   "source": [
    "import re\n",
    "str1=\"Parrot peacock Problem solving skill with python.\"\n",
    "list1=re.findall(r'\\bP\\w*\\b',str1)\n",
    "print(list1)\n",
    "print(\"no of words starting with P is: \",len(list1))"
   ]
  },
  {
   "cell_type": "markdown",
   "id": "15c9b85e-31d5-49e5-b2e1-235d781708dc",
   "metadata": {},
   "source": [
    "## 10.seperate and print numbers"
   ]
  },
  {
   "cell_type": "code",
   "execution_count": 9,
   "id": "982c5882-39bb-4ac6-b1eb-e6cee2c808c8",
   "metadata": {},
   "outputs": [
    {
     "name": "stdout",
     "output_type": "stream",
     "text": [
      "1\n",
      "23\n",
      "3\n"
     ]
    }
   ],
   "source": [
    "import re\n",
    "str1=\"one 1,two 23,three 3\"\n",
    "num=re.findall(r\"\\d+\",str1)\n",
    "for i in num:\n",
    "    print(i)"
   ]
  },
  {
   "cell_type": "markdown",
   "id": "d5f89a5c-bb89-4009-8a0c-b3723baea8b2",
   "metadata": {},
   "source": [
    "## 11.word starting with a and e"
   ]
  },
  {
   "cell_type": "code",
   "execution_count": 8,
   "id": "9fe4264e-53ab-4eb6-86b5-e77b02378fbf",
   "metadata": {},
   "outputs": [
    {
     "name": "stdout",
     "output_type": "stream",
     "text": [
      " words starting with a and e are:  4\n"
     ]
    }
   ],
   "source": [
    "import re\n",
    "str1=\"ant and elephant are friends.\"\n",
    "list1=re.findall(r'\\b[a,e]\\w*\\b',str1,re.I)\n",
    "print(\" words starting with a and e are: \",len(list1))\n"
   ]
  },
  {
   "cell_type": "markdown",
   "id": "c814406d-2a76-4da2-a448-48519631c9e4",
   "metadata": {},
   "source": [
    "## 12. road to rd"
   ]
  },
  {
   "cell_type": "code",
   "execution_count": 63,
   "id": "461c6876-3a0f-49e5-972b-4d49a8de14d0",
   "metadata": {},
   "outputs": [
    {
     "data": {
      "text/plain": [
       "'we all are care full on rd. and aware rd. rules.'"
      ]
     },
     "execution_count": 63,
     "metadata": {},
     "output_type": "execute_result"
    }
   ],
   "source": [
    "\n",
    "str1= \"we all are care full on road and aware road rules.\"\n",
    "str1.replace(\"road\",\"rd.\")\n"
   ]
  },
  {
   "cell_type": "markdown",
   "id": "b9930392-c938-429f-a0fd-a6f51494dd1b",
   "metadata": {},
   "source": [
    "## 13.invalid marks"
   ]
  },
  {
   "cell_type": "code",
   "execution_count": 67,
   "id": "83c4b65b-273e-4065-bdad-cc82dfddf960",
   "metadata": {},
   "outputs": [
    {
     "name": "stdin",
     "output_type": "stream",
     "text": [
      "enter marks between 0 & 100 101\n"
     ]
    },
    {
     "name": "stdout",
     "output_type": "stream",
     "text": [
      "invalid data for marks\n",
      "None\n"
     ]
    }
   ],
   "source": [
    "class invalidData(Exception):\n",
    "    def in1(self):\n",
    "        print(\"invalid data for marks\")\n",
    "mark=int(input(\"enter marks between 0 & 100\"))\n",
    "try:\n",
    "    if mark<0 or mark>100:\n",
    "        raise invalidData\n",
    "except invalidData as e1:\n",
    "    print(e1.in1())"
   ]
  },
  {
   "cell_type": "markdown",
   "id": "7331cf88-68f0-4b48-838d-6efd2e91f73e",
   "metadata": {},
   "source": [
    "## 14.multiple expection "
   ]
  },
  {
   "cell_type": "code",
   "execution_count": 70,
   "id": "2188c755-12be-4291-9794-96cb6cee0598",
   "metadata": {},
   "outputs": [
    {
     "name": "stdout",
     "output_type": "stream",
     "text": [
      "can only concatenate str (not \"int\") to str\n"
     ]
    }
   ],
   "source": [
    "try:\n",
    "    name=\"cdac\"\n",
    "    name+=5\n",
    "except NameError as ne:\n",
    "    print(ne)\n",
    "except TypeError as te:\n",
    "    print(te)"
   ]
  },
  {
   "cell_type": "code",
   "execution_count": null,
   "id": "800a48d7-8e0d-4ea0-b19a-b6c8916f7b11",
   "metadata": {},
   "outputs": [],
   "source": []
  }
 ],
 "metadata": {
  "kernelspec": {
   "display_name": "Python 3 (ipykernel)",
   "language": "python",
   "name": "python3"
  },
  "language_info": {
   "codemirror_mode": {
    "name": "ipython",
    "version": 3
   },
   "file_extension": ".py",
   "mimetype": "text/x-python",
   "name": "python",
   "nbconvert_exporter": "python",
   "pygments_lexer": "ipython3",
   "version": "3.12.4"
  }
 },
 "nbformat": 4,
 "nbformat_minor": 5
}
