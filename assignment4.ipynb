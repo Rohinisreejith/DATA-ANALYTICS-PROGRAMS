{
 "cells": [
  {
   "cell_type": "markdown",
   "id": "aa1fb7f1-9bfc-4261-947f-111a3ec922b4",
   "metadata": {},
   "source": [
    "### 1.students details"
   ]
  },
  {
   "cell_type": "code",
   "execution_count": 5,
   "id": "bd340d05-e8e3-4809-be97-955b4715f601",
   "metadata": {},
   "outputs": [
    {
     "name": "stdout",
     "output_type": "stream",
     "text": [
      "no.of students in the list: 4\n",
      "{'Arham': 'Blue', 'Lisa': 'blue', 'Vinod': 'purple', 'Jenny': 'pink'}\n"
     ]
    },
    {
     "data": {
      "text/plain": [
       "('Jenny', 'pink')"
      ]
     },
     "execution_count": 5,
     "metadata": {},
     "output_type": "execute_result"
    }
   ],
   "source": [
    "people={'Arham':'Blue','Lisa':'Yellow','Vinod':'purple','Jenny':'pink'}\n",
    "print(\"no.of students in the list:\",len(people))\n",
    "people.update({'Lisa':'blue'})\n",
    "print(people)\n",
    "people.popitem()"
   ]
  },
  {
   "cell_type": "code",
   "execution_count": 6,
   "id": "32bbec01-0cd5-4244-83bd-80c2af7937dd",
   "metadata": {},
   "outputs": [
    {
     "data": {
      "text/plain": [
       "['Arham', 'Lisa', 'Vinod']"
      ]
     },
     "execution_count": 6,
     "metadata": {},
     "output_type": "execute_result"
    }
   ],
   "source": [
    "sorted(people)"
   ]
  },
  {
   "cell_type": "markdown",
   "id": "3f934974-3db8-4b7d-90aa-d2c70ab1a93e",
   "metadata": {},
   "source": [
    "## 2.translate"
   ]
  },
  {
   "cell_type": "code",
   "execution_count": 8,
   "id": "ce1ffe7e-93d1-4145-8261-29e58c24b602",
   "metadata": {},
   "outputs": [
    {
     "data": {
      "text/plain": [
       "'tothohisos isos fofunon'"
      ]
     },
     "execution_count": 8,
     "metadata": {},
     "output_type": "execute_result"
    }
   ],
   "source": [
    "def translate(x):\n",
    "    str1=\"\"\n",
    "    for i in x:\n",
    "        str1+=i\n",
    "        if(i not in('a','e','i','o','u',' ')):\n",
    "            str1+=\"o\"+i\n",
    "    return str1\n",
    "translate(\"this is fun\")\n"
   ]
  },
  {
   "cell_type": "markdown",
   "id": "5cb3888e-c893-43b9-8ae7-c07c4e669c78",
   "metadata": {},
   "source": [
    "## 3. function to factorial"
   ]
  },
  {
   "cell_type": "code",
   "execution_count": 34,
   "id": "a8ca0985-d80a-4d7a-ade6-c4cdd4fcf08e",
   "metadata": {},
   "outputs": [
    {
     "name": "stdout",
     "output_type": "stream",
     "text": [
      "factorial from 1 to 20 is:\n",
      "1! = 1\n",
      "2! = 2\n",
      "3! = 6\n",
      "4! = 24\n",
      "5! = 120\n",
      "6! = 720\n",
      "7! = 5040\n",
      "8! = 40320\n",
      "9! = 362880\n",
      "10! = 3628800\n",
      "11! = 39916800\n",
      "12! = 479001600\n",
      "13! = 6227020800\n",
      "14! = 87178291200\n",
      "15! = 1307674368000\n",
      "16! = 20922789888000\n",
      "17! = 355687428096000\n",
      "18! = 6402373705728000\n",
      "19! = 121645100408832000\n",
      "20! = 2432902008176640000\n"
     ]
    }
   ],
   "source": [
    "def factorial(n):\n",
    "    k=1\n",
    "    for i in range(1,n+1):\n",
    "        k=k*i\n",
    "    return k\n",
    "print(\"factorial from 1 to 20 is:\")\n",
    "for i in range(1,21):\n",
    "    print(str(i)+\"! =\",factorial(i))\n",
    "            "
   ]
  },
  {
   "cell_type": "markdown",
   "id": "78083478-841b-4987-ae54-3afda485a3eb",
   "metadata": {},
   "source": [
    "## 4. longest word"
   ]
  },
  {
   "cell_type": "code",
   "execution_count": 1,
   "id": "bd6d4f43-6538-47a2-bd9a-5e6a93c71848",
   "metadata": {},
   "outputs": [
    {
     "name": "stdout",
     "output_type": "stream",
     "text": [
      "length of longest word is: 10\n"
     ]
    }
   ],
   "source": [
    "def longest_word(lst1):\n",
    "    lst2=[]\n",
    "    for x in lst1:\n",
    "        lst2.append(len(x))\n",
    "    return max(lst2)\n",
    "lstA=['cdac','abcg','trivandrum']\n",
    "print(\"length of longest word is:\",longest_word(lstA))"
   ]
  },
  {
   "cell_type": "markdown",
   "id": "df59afd6-1ee7-42ac-bcc7-6789c9150d7d",
   "metadata": {},
   "source": [
    "## 5.spelling correction"
   ]
  },
  {
   "cell_type": "code",
   "execution_count": 56,
   "id": "52078316-5acc-4f26-b5ce-8e674f408e74",
   "metadata": {},
   "outputs": [
    {
     "name": "stdout",
     "output_type": "stream",
     "text": [
      "This is  very  funny and cool.Indeed\n",
      "This is very funny and cool. Indeed\n"
     ]
    }
   ],
   "source": [
    "def correction(str1):\n",
    "    str2=\"\"\n",
    "    prev=\"\"\n",
    "    for i in str1:\n",
    "        if((i==\" \")&(prev==\" \")):\n",
    "            pass\n",
    "        elif((i!=\" \")&(prev==\".\")):\n",
    "            str2+=\" \"+i\n",
    "        else:\n",
    "            str2+=i\n",
    "        prev=i\n",
    "    return str2\n",
    "str2=\"This is  very  funny and cool.Indeed\"\n",
    "print(str2)\n",
    "print(correction(str2))"
   ]
  },
  {
   "cell_type": "markdown",
   "id": "dfc48ff8-e0ac-4e85-b8b5-c01077d80d89",
   "metadata": {},
   "source": [
    "## 6.words in a sentence"
   ]
  },
  {
   "cell_type": "code",
   "execution_count": 6,
   "id": "f9ebde2e-fb33-475d-b856-67e65bdd6641",
   "metadata": {},
   "outputs": [
    {
     "name": "stdout",
     "output_type": "stream",
     "text": [
      "['india']\n"
     ]
    }
   ],
   "source": [
    "str1=\"i love my india\"\n",
    "l1=str1.split()\n",
    "print([i for i in l1 if len(i)>4])"
   ]
  },
  {
   "cell_type": "markdown",
   "id": "275aa745-c3ef-43d7-9e7f-24f557551e02",
   "metadata": {},
   "source": [
    "## 7.divisible by 7"
   ]
  },
  {
   "cell_type": "code",
   "execution_count": 10,
   "id": "e9f18863-8d45-429c-9a7c-1a0de35afa4f",
   "metadata": {},
   "outputs": [
    {
     "name": "stdout",
     "output_type": "stream",
     "text": [
      "[7, 14, 21, 28, 35, 42, 49, 56, 63, 70, 77, 84, 91, 98, 105, 112, 119, 126, 133, 140, 147, 154, 161, 168, 175, 182, 189, 196, 203, 210, 217, 224, 231, 238, 245, 252, 259, 266, 273, 280, 287, 294, 301, 308, 315, 322, 329, 336, 343, 350, 357, 364, 371, 378, 385, 392, 399, 406, 413, 420, 427, 434, 441, 448, 455, 462, 469, 476, 483, 490, 497, 504, 511, 518, 525, 532, 539, 546, 553, 560, 567, 574, 581, 588, 595, 602, 609, 616, 623, 630, 637, 644, 651, 658, 665, 672, 679, 686, 693, 700, 707, 714, 721, 728, 735, 742, 749, 756, 763, 770, 777, 784, 791, 798, 805, 812, 819, 826, 833, 840, 847, 854, 861, 868, 875, 882, 889, 896, 903, 910, 917, 924, 931, 938, 945, 952, 959, 966, 973, 980, 987, 994]\n"
     ]
    }
   ],
   "source": [
    "lst1=range(1,1000)\n",
    "print([i for i in lst1 if (i%7==0)])"
   ]
  },
  {
   "cell_type": "markdown",
   "id": "09c73634-3ab4-4f5d-a8ae-748f14011b16",
   "metadata": {},
   "source": [
    "## 8.set operations"
   ]
  },
  {
   "cell_type": "code",
   "execution_count": 11,
   "id": "fcf4c8a0-28d1-4747-aa88-e9dac4fbf915",
   "metadata": {},
   "outputs": [
    {
     "data": {
      "text/plain": [
       "{'i', 'india', 'love', 'my'}"
      ]
     },
     "execution_count": 11,
     "metadata": {},
     "output_type": "execute_result"
    }
   ],
   "source": [
    "set1={\"i\",\"love\",\"my\",\"india\"}\n",
    "set1\n"
   ]
  },
  {
   "cell_type": "code",
   "execution_count": 12,
   "id": "a7f217c0-edb9-4136-870d-a4d169f3e999",
   "metadata": {},
   "outputs": [],
   "source": [
    "set1.add(\"and kerala\")"
   ]
  },
  {
   "cell_type": "code",
   "execution_count": 13,
   "id": "646b8d1f-4ebb-47cc-981e-443f4f81284f",
   "metadata": {},
   "outputs": [
    {
     "data": {
      "text/plain": [
       "{'and kerala', 'i', 'india', 'love', 'my'}"
      ]
     },
     "execution_count": 13,
     "metadata": {},
     "output_type": "execute_result"
    }
   ],
   "source": [
    "set1"
   ]
  },
  {
   "cell_type": "code",
   "execution_count": 14,
   "id": "9db78964-0252-488d-a599-8be0df5bd5be",
   "metadata": {},
   "outputs": [
    {
     "data": {
      "text/plain": [
       "{'and kerala', 'india', 'love', 'my'}"
      ]
     },
     "execution_count": 14,
     "metadata": {},
     "output_type": "execute_result"
    }
   ],
   "source": [
    "set1.discard(\"i\")\n",
    "set1"
   ]
  },
  {
   "cell_type": "code",
   "execution_count": 15,
   "id": "dbe7390f-a07c-4c1c-b686-320e062aed62",
   "metadata": {},
   "outputs": [
    {
     "data": {
      "text/plain": [
       "set()"
      ]
     },
     "execution_count": 15,
     "metadata": {},
     "output_type": "execute_result"
    }
   ],
   "source": [
    "set1.clear()\n",
    "set1"
   ]
  },
  {
   "cell_type": "code",
   "execution_count": 16,
   "id": "448c8d42-6860-4720-8245-fb2370297439",
   "metadata": {},
   "outputs": [
    {
     "data": {
      "text/plain": [
       "{40, 50, 60, 70, 80, 90, 100}"
      ]
     },
     "execution_count": 16,
     "metadata": {},
     "output_type": "execute_result"
    }
   ],
   "source": [
    "s1={40,50,60,70,80}\n",
    "s2={70,80,90,100}\n",
    "s1.union(s2)"
   ]
  },
  {
   "cell_type": "code",
   "execution_count": 18,
   "id": "f43f28c3-27e5-4a7e-93a8-14c52935a717",
   "metadata": {},
   "outputs": [
    {
     "data": {
      "text/plain": [
       "{70, 80}"
      ]
     },
     "execution_count": 18,
     "metadata": {},
     "output_type": "execute_result"
    }
   ],
   "source": [
    "s1.intersection(s2)"
   ]
  },
  {
   "cell_type": "code",
   "execution_count": 19,
   "id": "8f5c7485-ed53-412c-a1a9-538c3d0b2408",
   "metadata": {},
   "outputs": [
    {
     "data": {
      "text/plain": [
       "{40, 50, 60}"
      ]
     },
     "execution_count": 19,
     "metadata": {},
     "output_type": "execute_result"
    }
   ],
   "source": [
    "s1.difference(s2)"
   ]
  },
  {
   "cell_type": "code",
   "execution_count": 21,
   "id": "2bffc2e7-9a45-4872-8e56-80ac567d60d5",
   "metadata": {},
   "outputs": [
    {
     "data": {
      "text/plain": [
       "{40, 50, 60, 90, 100}"
      ]
     },
     "execution_count": 21,
     "metadata": {},
     "output_type": "execute_result"
    }
   ],
   "source": [
    "s1.symmetric_difference(s2)"
   ]
  },
  {
   "cell_type": "code",
   "execution_count": 22,
   "id": "f1fc852e-6379-4017-8888-535af1eadb5b",
   "metadata": {},
   "outputs": [
    {
     "data": {
      "text/plain": [
       "{40, 50, 60, 70, 80, 90, 100}"
      ]
     },
     "execution_count": 22,
     "metadata": {},
     "output_type": "execute_result"
    }
   ],
   "source": [
    "s1|s2"
   ]
  },
  {
   "cell_type": "code",
   "execution_count": 23,
   "id": "49738ed9-1624-4050-afaa-d5e5a2f811e0",
   "metadata": {},
   "outputs": [
    {
     "data": {
      "text/plain": [
       "{70, 80}"
      ]
     },
     "execution_count": 23,
     "metadata": {},
     "output_type": "execute_result"
    }
   ],
   "source": [
    "s1&s2"
   ]
  },
  {
   "cell_type": "code",
   "execution_count": 24,
   "id": "a3f28f80-5d05-4aa8-9ba5-e158583739dc",
   "metadata": {},
   "outputs": [
    {
     "data": {
      "text/plain": [
       "{40, 50, 60}"
      ]
     },
     "execution_count": 24,
     "metadata": {},
     "output_type": "execute_result"
    }
   ],
   "source": [
    "s1-s2"
   ]
  },
  {
   "cell_type": "code",
   "execution_count": 25,
   "id": "3ab31df9-af46-4266-be72-186ce6e42ae4",
   "metadata": {},
   "outputs": [
    {
     "data": {
      "text/plain": [
       "{40, 50, 60, 90, 100}"
      ]
     },
     "execution_count": 25,
     "metadata": {},
     "output_type": "execute_result"
    }
   ],
   "source": [
    "s1^s2"
   ]
  },
  {
   "cell_type": "markdown",
   "id": "951d70ba-9ca7-46f3-ae5f-6085811dcd5c",
   "metadata": {},
   "source": [
    "## 9.divisible by m and n"
   ]
  },
  {
   "cell_type": "code",
   "execution_count": 52,
   "id": "7fbb00dd-fdd2-443f-865e-9f9610f81247",
   "metadata": {},
   "outputs": [
    {
     "name": "stdin",
     "output_type": "stream",
     "text": [
      "enter a list of numbers: 12,6,8,9\n",
      "enter the first no: 2\n",
      "enter the second no: 3\n"
     ]
    },
    {
     "name": "stdout",
     "output_type": "stream",
     "text": [
      "The list divisible by  2  &  3  are: [12, 6]\n"
     ]
    }
   ],
   "source": [
    "lst1=list(eval(input(\"enter a list of numbers:\")))\n",
    "m=int(input(\"enter the first no:\"))\n",
    "n=int(input(\"enter the second no:\"))\n",
    "lst2=[]\n",
    "for i in lst1:\n",
    "    if ((i%m==0)&(i%n==0)):\n",
    "        lst2.append(i)\n",
    "print(\"The list divisible by \",m,\" & \",n,\" are:\",lst2)"
   ]
  },
  {
   "cell_type": "markdown",
   "id": "a2a70196-b91e-4a35-a320-f1ec6e7595f5",
   "metadata": {},
   "source": [
    "## 10.replicate"
   ]
  },
  {
   "cell_type": "code",
   "execution_count": 39,
   "id": "6ee1fa90-489f-4eef-aaf5-b2c6a7b27436",
   "metadata": {},
   "outputs": [
    {
     "name": "stdin",
     "output_type": "stream",
     "text": [
      "enter a string: 23,45,34,56\n"
     ]
    },
    {
     "data": {
      "text/plain": [
       "[23, 45, 34, 56, 23, 45, 34, 56]"
      ]
     },
     "execution_count": 39,
     "metadata": {},
     "output_type": "execute_result"
    }
   ],
   "source": [
    "lst1=list(eval(input(\"enter a string:\")))\n",
    "\n",
    "lst11=lst1*2\n",
    "lst11"
   ]
  },
  {
   "cell_type": "code",
   "execution_count": 44,
   "id": "3019c7b1-b5c2-4883-8000-d1808833b70e",
   "metadata": {},
   "outputs": [],
   "source": [
    "lst11.sort()"
   ]
  },
  {
   "cell_type": "code",
   "execution_count": 46,
   "id": "7b3f46c3-eb1f-42d8-ba71-a1a6fdbb2a99",
   "metadata": {},
   "outputs": [
    {
     "data": {
      "text/plain": [
       "[23, 23, 34, 34, 45, 45, 56, 56]"
      ]
     },
     "execution_count": 46,
     "metadata": {},
     "output_type": "execute_result"
    }
   ],
   "source": [
    "lst11"
   ]
  },
  {
   "cell_type": "code",
   "execution_count": 47,
   "id": "f17b4738-0d4b-4fa5-94cd-fc3af2213f84",
   "metadata": {},
   "outputs": [
    {
     "data": {
      "text/plain": [
       "[56, 56, 45, 45, 34, 34, 23, 23]"
      ]
     },
     "execution_count": 47,
     "metadata": {},
     "output_type": "execute_result"
    }
   ],
   "source": [
    "lst11.sort(reverse=True)\n",
    "lst11"
   ]
  },
  {
   "cell_type": "code",
   "execution_count": null,
   "id": "11d7444b-8769-4469-aa17-b9480a8cb779",
   "metadata": {},
   "outputs": [],
   "source": []
  }
 ],
 "metadata": {
  "kernelspec": {
   "display_name": "Python 3 (ipykernel)",
   "language": "python",
   "name": "python3"
  },
  "language_info": {
   "codemirror_mode": {
    "name": "ipython",
    "version": 3
   },
   "file_extension": ".py",
   "mimetype": "text/x-python",
   "name": "python",
   "nbconvert_exporter": "python",
   "pygments_lexer": "ipython3",
   "version": "3.12.4"
  }
 },
 "nbformat": 4,
 "nbformat_minor": 5
}
