{
 "cells": [
  {
   "cell_type": "markdown",
   "id": "7cb2c741-088a-4aed-b2b5-0aa5e57ce0af",
   "metadata": {},
   "source": [
    "## 1.class student"
   ]
  },
  {
   "cell_type": "code",
   "execution_count": 14,
   "id": "471d1776-2a68-4d4f-90f7-ad39d127045d",
   "metadata": {},
   "outputs": [
    {
     "name": "stdout",
     "output_type": "stream",
     "text": [
      "roll number : 1\n",
      "name: rohini\n",
      "marks are: 45 , 47 , 42\n",
      "total mark is  134\n",
      "average of mark is  44.666666666666664\n"
     ]
    }
   ],
   "source": [
    "class student:\n",
    "    def __init__(self,rollnum,name,mark1,mark2,mark3):\n",
    "        self.rollnum=rollnum\n",
    "        self.name=name\n",
    "        self.mark1=mark1\n",
    "        self.mark2=mark2\n",
    "        self.mark3=mark3\n",
    "    def totalmark(self):\n",
    "        print(\"total mark is \",self.mark1+self.mark2+self.mark3)\n",
    "    def average(self):\n",
    "        print(\"average of mark is \",(self.mark1+self.mark2+self.mark3)/3)\n",
    "stud1=student(1,\"rohini\",45,47,42)\n",
    "\n",
    "\n",
    "print(\"roll number :\",stud1.rollnum)\n",
    "print(\"name:\",stud1.name)\n",
    "print(\"marks are:\",stud1.mark1,\",\",stud1.mark2,\",\",stud1.mark3)\n",
    "\n",
    "stud1.totalmark()\n",
    "stud1.average()\n",
    "    "
   ]
  },
  {
   "cell_type": "markdown",
   "id": "78950098-49fc-4028-9d18-13d21d71a819",
   "metadata": {},
   "source": [
    "## 2.class bank account"
   ]
  },
  {
   "cell_type": "code",
   "execution_count": 24,
   "id": "073e52fa-4a20-44a8-acba-a166fb8956a0",
   "metadata": {},
   "outputs": [
    {
     "name": "stdout",
     "output_type": "stream",
     "text": [
      "Account number : 623\n",
      "name: rohini\n",
      "account balance: 250000\n",
      "account balance is greaterthan 20000\n"
     ]
    }
   ],
   "source": [
    "class bankaccount:\n",
    "    \n",
    "    def __init__(self,acno,custname,balamt):\n",
    "        self.acno=acno\n",
    "        self.custname=custname\n",
    "        self.balamt=balamt\n",
    "    def display(self):\n",
    "        print(\"Account number :\",self.acno)\n",
    "        print(\"name:\",self.custname)\n",
    "        print(\"account balance:\",self.balamt)\n",
    "    def bal(self):\n",
    "        if self.balamt>20000:\n",
    "            print(\"account balance is greaterthan 20000\")\n",
    "bc=bankaccount(623,\"rohini\",250000)\n",
    "bc.acno\n",
    "bc.custname\n",
    "bc.balamt\n",
    "bc.display()\n",
    "bc.bal()\n",
    "   "
   ]
  },
  {
   "cell_type": "markdown",
   "id": "3fc8ac51-9cee-4a12-8b1c-0d979205551a",
   "metadata": {},
   "source": [
    "## 3.class rectangle"
   ]
  },
  {
   "cell_type": "code",
   "execution_count": 27,
   "id": "db3d4de5-c40f-4394-ac02-c6115387f773",
   "metadata": {},
   "outputs": [
    {
     "name": "stdout",
     "output_type": "stream",
     "text": [
      "area is  20\n",
      "perimeter is  18\n"
     ]
    }
   ],
   "source": [
    "class rectangle:\n",
    "    def __init__(self,length,width):\n",
    "        self.length=length\n",
    "        self.width=width\n",
    "    def area(self):\n",
    "        print(\"area is \",self.length*self.width)\n",
    "    def perimeter(self):\n",
    "        print(\"perimeter is \",2*(self.length+self.width)) \n",
    "rect1=rectangle(4,5)\n",
    "rect1.area()\n",
    "rect1.perimeter()"
   ]
  },
  {
   "cell_type": "markdown",
   "id": "37ab558e-0345-479e-8ad2-f04291dc4d79",
   "metadata": {},
   "source": [
    "## 4. overloading"
   ]
  },
  {
   "cell_type": "code",
   "execution_count": 28,
   "id": "aa121098-3619-4fcf-bcfd-328c80c903e9",
   "metadata": {},
   "outputs": [
    {
     "name": "stdout",
     "output_type": "stream",
     "text": [
      "Collecting multipledispatch\n",
      "  Downloading multipledispatch-1.0.0-py3-none-any.whl.metadata (3.8 kB)\n",
      "Downloading multipledispatch-1.0.0-py3-none-any.whl (12 kB)\n",
      "Installing collected packages: multipledispatch\n",
      "Successfully installed multipledispatch-1.0.0\n",
      "Note: you may need to restart the kernel to use updated packages.\n"
     ]
    },
    {
     "name": "stderr",
     "output_type": "stream",
     "text": [
      "\n",
      "[notice] A new release of pip is available: 24.0 -> 24.1.2\n",
      "[notice] To update, run: python.exe -m pip install --upgrade pip\n"
     ]
    }
   ],
   "source": [
    "pip install multipledispatch"
   ]
  },
  {
   "cell_type": "code",
   "execution_count": 30,
   "id": "e62c63e9-d581-4317-8d46-bf1252777500",
   "metadata": {},
   "outputs": [
    {
     "name": "stdout",
     "output_type": "stream",
     "text": [
      "6\n"
     ]
    }
   ],
   "source": [
    "from multipledispatch import dispatch\n",
    "class product:\n",
    "    @dispatch(int,int)\n",
    "    def product(a,b):\n",
    "        return a*b\n",
    "    @dispatch(int,int,int)\n",
    "    def product(a,b,c):\n",
    "        return a*b*c\n",
    "    @dispatch(float,float,float)\n",
    "    def product(a,b,c):\n",
    "        return a*b*c\n",
    "p1=product()\n",
    "print(p1.product(2,3))"
   ]
  },
  {
   "cell_type": "code",
   "execution_count": 31,
   "id": "522e35b9-beed-448a-a9e0-245d39a03d1b",
   "metadata": {},
   "outputs": [
    {
     "name": "stdout",
     "output_type": "stream",
     "text": [
      "30\n"
     ]
    }
   ],
   "source": [
    "print(p1.product(2,3,5))"
   ]
  },
  {
   "cell_type": "code",
   "execution_count": 32,
   "id": "ea51529b-0998-4b5c-9027-110245b1a7b3",
   "metadata": {},
   "outputs": [
    {
     "name": "stdout",
     "output_type": "stream",
     "text": [
      "15.455999999999998\n"
     ]
    }
   ],
   "source": [
    "print(p1.product(2.3,5.6,1.2))"
   ]
  },
  {
   "cell_type": "code",
   "execution_count": null,
   "id": "c1e625d7-a6ee-4a6d-a1e2-85448f25c6e7",
   "metadata": {},
   "outputs": [],
   "source": []
  }
 ],
 "metadata": {
  "kernelspec": {
   "display_name": "Python 3 (ipykernel)",
   "language": "python",
   "name": "python3"
  },
  "language_info": {
   "codemirror_mode": {
    "name": "ipython",
    "version": 3
   },
   "file_extension": ".py",
   "mimetype": "text/x-python",
   "name": "python",
   "nbconvert_exporter": "python",
   "pygments_lexer": "ipython3",
   "version": "3.12.4"
  }
 },
 "nbformat": 4,
 "nbformat_minor": 5
}
